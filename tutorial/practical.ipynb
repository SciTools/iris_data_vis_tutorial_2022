{
 "cells": [
  {
   "cell_type": "markdown",
   "id": "5b7b1b50-eaaf-42b5-ba94-24d63bf3b442",
   "metadata": {},
   "source": [
    "# Iris Data Visualisation Practical"
   ]
  },
  {
   "cell_type": "markdown",
   "id": "231a892f-1332-4bdf-8878-7e19d511c8e9",
   "metadata": {},
   "source": [
    "Let's apply what we've learned about data processing and visualisation in Iris and Cartopy with the following example and exercises:\n",
    "\n",
    "* Example: Compare the output of two ensemble members\n",
    "* Exercise 1: Compare the output of the A1B and E1 scenario\n",
    "* Exercise 2: Plot the average annual temperature\n",
    "* Exercise 3: Plot wind speeds over Lake Victoria"
   ]
  },
  {
   "cell_type": "markdown",
   "id": "a007b9bf-776b-4ae2-a3ea-175db3c38c0e",
   "metadata": {
    "tags": []
   },
   "source": [
    "## Set up"
   ]
  },
  {
   "cell_type": "code",
   "execution_count": null,
   "id": "1ade1ad8-a2f7-4688-8ecf-717f460d0391",
   "metadata": {},
   "outputs": [],
   "source": [
    "import cartopy.feature as cfeat\n",
    "import iris\n",
    "import iris.analysis\n",
    "import iris.plot as iplt\n",
    "import iris.quickplot as qplt\n",
    "import matplotlib.pyplot as plt\n",
    "import numpy as np"
   ]
  },
  {
   "cell_type": "markdown",
   "id": "91c2c8e4-a224-48d7-a278-a7eabb7a18a3",
   "metadata": {
    "jp-MarkdownHeadingCollapsed": true,
    "tags": []
   },
   "source": [
    "## Example: Compare the output of two ensemble members"
   ]
  },
  {
   "cell_type": "markdown",
   "id": "4c8452bb-5f66-4a5b-996f-10d544512106",
   "metadata": {},
   "source": [
    "**Step 1:** Use `iris.load` to load in the file `iris.sample_data_path(\"GloSea4\", \"ensemble_00[45].pp\")` and print the cubes that are loaded."
   ]
  },
  {
   "cell_type": "code",
   "execution_count": null,
   "id": "b930d0a1-4146-4d73-8a34-588ae5c02269",
   "metadata": {},
   "outputs": [],
   "source": []
  },
  {
   "cell_type": "markdown",
   "id": "efac014b-2c02-4cad-9644-f435b00914b1",
   "metadata": {},
   "source": [
    "**Step 2:** Extract the \"surface_temperature\" cube with `cubes[0]` and assign it to `temp_cube`. Extract the first time step with `temp_cube[:, 0]`. Print the result."
   ]
  },
  {
   "cell_type": "code",
   "execution_count": null,
   "id": "7b9778cd-b416-4b2e-855e-a630ce9af0d2",
   "metadata": {},
   "outputs": [],
   "source": []
  },
  {
   "cell_type": "markdown",
   "id": "55821f46-ff1d-4c94-9a53-e9ed6bb2d09b",
   "metadata": {},
   "source": [
    "**Step 3:** Extract a cube with `iris.Constraint(realization=4)` and another cube with `iris.Constraint(realization=5)`. Print each cube."
   ]
  },
  {
   "cell_type": "code",
   "execution_count": null,
   "id": "8b00e9f4-2785-4980-b851-064aed349d31",
   "metadata": {},
   "outputs": [],
   "source": []
  },
  {
   "cell_type": "markdown",
   "id": "1d528a2a-d220-4bb1-b72f-83a7ca76b484",
   "metadata": {},
   "source": [
    "**Step 4:** Calculate the difference by subtracting one cube from another. Print the result."
   ]
  },
  {
   "cell_type": "code",
   "execution_count": null,
   "id": "5c54fdd8-8be2-45ae-8ebe-d2bd132b4a9f",
   "metadata": {},
   "outputs": [],
   "source": []
  },
  {
   "cell_type": "markdown",
   "id": "848f47fa-51c8-49bb-91fd-85ef96844f3b",
   "metadata": {},
   "source": [
    "**Step 5:** Using `qplt.pcolormesh`, create a plot of the `difference` cube. Use `plt.show()` to show the result."
   ]
  },
  {
   "cell_type": "code",
   "execution_count": null,
   "id": "213f8dcd-b11d-473c-8896-84145dd15220",
   "metadata": {},
   "outputs": [],
   "source": []
  },
  {
   "cell_type": "markdown",
   "id": "acf5ff8d-3e63-4ce9-9b32-cd6355e3534e",
   "metadata": {},
   "source": [
    "**Step 6:** Repeat step 5, but this time:\n",
    "* use the colormap `cmap=\"bwr\"` in the `qplt.pcolormesh`\n",
    "* set an appropriate title with `plt.title`\n",
    "* Add coastlines with `plt.gca().coastlines()`\n",
    "\n",
    "And use `plt.show()` to show the result."
   ]
  },
  {
   "cell_type": "code",
   "execution_count": null,
   "id": "610c6211-338f-449d-b0f4-a43a66d4784b",
   "metadata": {},
   "outputs": [],
   "source": []
  },
  {
   "cell_type": "markdown",
   "id": "26af0184-25df-4f3e-834e-13ad120f0e28",
   "metadata": {},
   "source": [
    "**Step 6:** Now you are going to create 3 subplots, one subplot for `ensemble_4`, one subplot for `ensemble_5` and one subplot for the `difference` cube. \n",
    "\n",
    "* Use `plt.figure(figsize=(20,12))` to set the size of the figure\n",
    "\n",
    "Then for each plot:\n",
    "* Use `plt.subplot(1, 3, n)` to create each of the 3 subplots. _Note matplotlib uses 1-based counting_\n",
    "* Use `qplt.pcolormesh` to plot the cube\n",
    "    * When plotting the difference cube, use a colormap `cmap=\"bwr`\n",
    "* Use `plt.title` to add a title of your choice\n",
    "* Use `plt.gca().coastlines()` to \"get the current axes\" and add coastlines\n",
    "\n",
    "\n",
    "And finally, use `plt.show()` to show the result."
   ]
  },
  {
   "cell_type": "code",
   "execution_count": null,
   "id": "049e7637-30df-441c-903a-6c2f047f6731",
   "metadata": {},
   "outputs": [],
   "source": []
  },
  {
   "cell_type": "markdown",
   "id": "3008310f-4f22-4874-890b-5faaf80f7894",
   "metadata": {
    "tags": []
   },
   "source": [
    "## Exercise 1: Compare the output of the A1B and E1 scenario"
   ]
  },
  {
   "cell_type": "markdown",
   "id": "b4cf8c7a-d008-4d0e-b4d5-8b00a76c9517",
   "metadata": {},
   "source": [
    "**Step 1:** Use `iris.load` to load in the file containing data for the A1B scenario,  `iris.sample_data_path(\"A1B.2098.pp\")` and assign this to a variable called `cubes`. Print the cubes that are loaded."
   ]
  },
  {
   "cell_type": "code",
   "execution_count": null,
   "id": "5c90221b-dd2b-43c4-83b7-e26380d53698",
   "metadata": {},
   "outputs": [],
   "source": []
  },
  {
   "cell_type": "markdown",
   "id": "4370b439-638d-4856-b9d6-9653bca72e6b",
   "metadata": {},
   "source": [
    "**Step 2:** Select the first cube with `cubes[0]` and assign this to a new variable called `A1B_cube`"
   ]
  },
  {
   "cell_type": "code",
   "execution_count": null,
   "id": "9f30c257-f4ff-42ef-b768-85bbc95d090a",
   "metadata": {},
   "outputs": [],
   "source": []
  },
  {
   "cell_type": "markdown",
   "id": "ee2f84ba-63d1-401f-8535-aa31ac998143",
   "metadata": {},
   "source": [
    "**Step 3:** Repeat steps 1 and 2 with the file containing data for the E1 scenario, `iris.sample_data_path(\"E1.2098.pp\")`:\n",
    "* Load the file with `iris.load`\n",
    "* Select the first cube using `cubes[0]` and assign it to `E1_cube`"
   ]
  },
  {
   "cell_type": "code",
   "execution_count": null,
   "id": "d1ea47b6-e237-43fd-966d-46a03e25de62",
   "metadata": {},
   "outputs": [],
   "source": []
  },
  {
   "cell_type": "markdown",
   "id": "533cdfd9-492a-4753-9554-bf4c543bf3b6",
   "metadata": {},
   "source": [
    "**Step 4:** Calculate the difference by subtracting one cube from another. Print the result."
   ]
  },
  {
   "cell_type": "code",
   "execution_count": null,
   "id": "936fe73e-fd4c-4bc5-bc2b-b01b924fe241",
   "metadata": {},
   "outputs": [],
   "source": []
  },
  {
   "cell_type": "markdown",
   "id": "4ee60902-145b-4d30-bb25-9a9e6b12f725",
   "metadata": {},
   "source": [
    "**Step 5:** Use `qplt.pcolormesh` to plot the `A1B_cube` and then use `plt.show()` to show the result."
   ]
  },
  {
   "cell_type": "code",
   "execution_count": null,
   "id": "4fbe8ac0-ecb6-4eda-8804-fae274778117",
   "metadata": {},
   "outputs": [],
   "source": []
  },
  {
   "cell_type": "markdown",
   "id": "f4218e23-6010-45a2-bf05-6826ba73d7d9",
   "metadata": {},
   "source": [
    "**Step 6:** Repeat step 5 but this time:\n",
    "* add a title using `plt.title('Air Temperature (A1B)')`\n",
    "* add coastlines using `plt.gca().coastlines()`\n",
    "\n",
    "Finally, use `plt.show()` to show the result."
   ]
  },
  {
   "cell_type": "code",
   "execution_count": null,
   "id": "cb3ed197-1b16-4313-825f-8ce1792098db",
   "metadata": {},
   "outputs": [],
   "source": []
  },
  {
   "cell_type": "markdown",
   "id": "35e24f7f-2b43-4078-9e60-2341434e4d1a",
   "metadata": {},
   "source": [
    "**Step 7:** Now you are going to create 3 subplots, one subplot for `A1B_cube`, one subplot for `E1_cube` and one subplot for the `difference` cube. \n",
    "\n",
    "* Use `plt.figure(figsize=(20,12))` to set the size of the figure\n",
    "\n",
    "Then for each plot:\n",
    "* Use `plt.subplot(1, 3, n)` to create each of the 3 subplots. _Note matplotlib uses 1-based counting_\n",
    "* Use `qplt.pcolormesh` to plot the cube\n",
    "    * When plotting the difference cube, use a colormap `cmap=\"bwr`\n",
    "* Use `plt.title` to add a title of your choice\n",
    "* Use `plt.gca().coastlines()` to \"get the current axes\" and add coastlines\n",
    "\n",
    "\n",
    "And finally, use `plt.show()` to show the result."
   ]
  },
  {
   "cell_type": "code",
   "execution_count": null,
   "id": "f56ce8af-38be-4332-b3d4-012bd4867cf5",
   "metadata": {},
   "outputs": [],
   "source": []
  },
  {
   "cell_type": "markdown",
   "id": "c1ea3f5e-9fc4-40b4-b628-7b8e42a595ab",
   "metadata": {},
   "source": [
    "**Step 8:** Repeat step 7 but this time we want the `difference` plot to have a symmetrical colobar. To do this:\n",
    "\n",
    "* Calculate the maximum absolute difference, i.e.<br>\n",
    "    `maxabs = np.abs(difference.data).max()`\n",
    "* Use this to set the `vmin` and `vmax` in the call to pcolormesh, i.e. <br>\n",
    "    `qplt.pcolormesh(difference, cmap=\"bwr\", vmin=-maxabs, vmax=maxabs)`\n",
    "\n",
    "Finally, use `plt.show()` to show the result."
   ]
  },
  {
   "cell_type": "code",
   "execution_count": null,
   "id": "af366e65-d18f-43ca-a450-e96f65149f71",
   "metadata": {},
   "outputs": [],
   "source": []
  },
  {
   "cell_type": "markdown",
   "id": "e4b560e6-de32-4b24-9d81-5d8c00f23839",
   "metadata": {
    "tags": []
   },
   "source": [
    "## Exercise 2: Plot the average annual temperature"
   ]
  },
  {
   "cell_type": "markdown",
   "id": "877f958d-1b85-41eb-9ead-3dad7774d961",
   "metadata": {},
   "source": [
    "**Step 1:** Use `iris.load_cube` to load in the file containing data for the A1B scenario over North America,  `iris.sample_data_path(\"A1B_north_america.nc\")` and constrain to the STASH code `\"m01s03i236\"`. Print the result."
   ]
  },
  {
   "cell_type": "code",
   "execution_count": null,
   "id": "f40b7786-5eb5-4d4f-a046-a64b776dd72b",
   "metadata": {},
   "outputs": [],
   "source": []
  },
  {
   "cell_type": "markdown",
   "id": "88fe132c-3ad3-475f-9aaf-631cc27d11e3",
   "metadata": {},
   "source": [
    "**Step 2:** Repeat step 1 with the file for the E1 scenario over North America,  `iris.sample_data_path(\"A1B_north_america.nc\")` and again constrain to the STASH code `m01s03i236`. Print the result."
   ]
  },
  {
   "cell_type": "code",
   "execution_count": null,
   "id": "eaf4dae8-ff3e-445b-bf55-060f18a27624",
   "metadata": {},
   "outputs": [],
   "source": []
  },
  {
   "cell_type": "markdown",
   "id": "f82f3e31-a090-4fd3-b6f8-e173b1ec1ef2",
   "metadata": {},
   "source": [
    "**Step 3:** Use `qplt.plot` to plot the `A1B_cube` for the first latitude point and first longitude point and all timesteps. <br>\n",
    "_Hint: You can select the appropriate sub cube using `A1B_cube[:, 0, 0]`_. \n",
    "\n",
    "Use `plt.show()` to show the result."
   ]
  },
  {
   "cell_type": "code",
   "execution_count": null,
   "id": "b2933f7f-3b13-4c8a-973c-e4944e98bfee",
   "metadata": {},
   "outputs": [],
   "source": []
  },
  {
   "cell_type": "markdown",
   "id": "2d3890c1-002c-4965-91af-692fc9fe0f65",
   "metadata": {},
   "source": [
    "**Step 4:** Repeat step 3, but this time plot both `A1B_cube[:, 0, 0]` and `E1_cube[:, 0, 0]` on the same axes. This can be done by calling `qplt.plot` twice, once for each cube. Then use `plt.show` to show the result."
   ]
  },
  {
   "cell_type": "code",
   "execution_count": null,
   "id": "61d20c70-d5f6-40c6-885c-df37074988f9",
   "metadata": {},
   "outputs": [],
   "source": []
  },
  {
   "cell_type": "markdown",
   "id": "a672494b-01bb-43b9-ab5b-d087bd61e8d0",
   "metadata": {},
   "source": [
    "## Exercise 3: Plot wind speeds over Lake Victoria"
   ]
  },
  {
   "cell_type": "markdown",
   "id": "d68b1b27-cdd9-484f-afb8-54e28f0aaff4",
   "metadata": {},
   "source": [
    "**Step 1:** Use `iris.load_cube` to load in the file `iris.sample_data_path(\"wind_speed_lake_victoria.pp\")`, constraining to `\"x_wind\"`. Print the result."
   ]
  },
  {
   "cell_type": "code",
   "execution_count": null,
   "id": "781ba148-5dab-4e7e-b3c9-6470970abdcc",
   "metadata": {},
   "outputs": [],
   "source": []
  },
  {
   "cell_type": "markdown",
   "id": "8e0e541c-5c0d-49fb-9e81-5ceaba81704b",
   "metadata": {},
   "source": [
    "**Step 2:** Repeat step 1, but this time constrain to `\"y_wind\"`. Print the result."
   ]
  },
  {
   "cell_type": "code",
   "execution_count": null,
   "id": "56e96739-38d7-4815-8fde-c16094fb0ce0",
   "metadata": {},
   "outputs": [],
   "source": []
  },
  {
   "cell_type": "markdown",
   "id": "ceb95696-aec6-43b2-a6bd-e30e1c134a97",
   "metadata": {},
   "source": [
    "**Step 3:** Compute the wind speed as follows `(xwind_cube**2 + ywind_cube**2) ** 0.5`"
   ]
  },
  {
   "cell_type": "code",
   "execution_count": null,
   "id": "dd7d89ef-bd8b-4a46-a5c0-2253352e1690",
   "metadata": {},
   "outputs": [],
   "source": []
  },
  {
   "cell_type": "markdown",
   "id": "83e700be-8ce9-4560-a2f2-e16a7e8260ad",
   "metadata": {},
   "source": [
    "**Step 4:** Rename the new windspeed cube using `windspeed_cube.rename(\"windspeed\")`. Print the result.<br>\n",
    "_Note: `windspeed_cube.rename(\"windspeed\")` is an \"inplace\" operation so you don't need to assign it to a new variable._"
   ]
  },
  {
   "cell_type": "code",
   "execution_count": null,
   "id": "fcd7b08e-a2f3-4a63-bf85-179423da342c",
   "metadata": {},
   "outputs": [],
   "source": []
  },
  {
   "cell_type": "markdown",
   "id": "6c977b77-48d1-46f0-a527-0aa131c678e9",
   "metadata": {},
   "source": [
    "**Step 5:** Use `qplt.contourf` to plot the windspeed. Use `plt.show()` to show the result."
   ]
  },
  {
   "cell_type": "code",
   "execution_count": null,
   "id": "5905c825-969e-475f-8b10-197892f60b3c",
   "metadata": {},
   "outputs": [],
   "source": []
  },
  {
   "cell_type": "markdown",
   "id": "b3899c6c-2948-46b6-8e22-dfaefd3d4500",
   "metadata": {},
   "source": [
    "**Step 6:** Repeat step 5, but this time add the outline of the lakes to the map:\n",
    "* Create a lakes feature, `lakes = cfeat.NaturalEarthFeature(\"physical\", \"lakes\", \"50m\", facecolor=\"none\")`\n",
    "* Add the feature with `plt.gca().add_feature(lakes)`\n",
    "\n",
    "And use `plt.show()` to show the result"
   ]
  },
  {
   "cell_type": "code",
   "execution_count": null,
   "id": "cb283e90-5b19-4313-95f5-f1b771af495b",
   "metadata": {},
   "outputs": [],
   "source": []
  },
  {
   "cell_type": "markdown",
   "id": "0e2cfb0b-d4c8-4f88-9829-47568415c457",
   "metadata": {},
   "source": [
    "**Step 7:** Repeat step 6, but this time also:\n",
    "* use `iplt.quiver(xwind_cube, ywind_cube, pivot=\"middle\")` to add wind quivers\n",
    "* use `plt.title` to add a suitable title\n",
    "\n",
    "And use `plt.show()` to show the result"
   ]
  },
  {
   "cell_type": "code",
   "execution_count": null,
   "id": "dfef6c84-e4ba-40d7-8a9f-a0fcdc9ebff4",
   "metadata": {},
   "outputs": [],
   "source": []
  }
 ],
 "metadata": {
  "kernelspec": {
   "display_name": "Python 3 (ipykernel)",
   "language": "python",
   "name": "python3"
  },
  "language_info": {
   "codemirror_mode": {
    "name": "ipython",
    "version": 3
   },
   "file_extension": ".py",
   "mimetype": "text/x-python",
   "name": "python",
   "nbconvert_exporter": "python",
   "pygments_lexer": "ipython3",
   "version": "3.10.8"
  }
 },
 "nbformat": 4,
 "nbformat_minor": 5
}
