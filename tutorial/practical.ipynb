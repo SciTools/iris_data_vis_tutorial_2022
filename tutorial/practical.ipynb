{
 "cells": [
  {
   "cell_type": "markdown",
   "id": "5b7b1b50-eaaf-42b5-ba94-24d63bf3b442",
   "metadata": {},
   "source": [
    "# Iris Data Visualisation Practical"
   ]
  },
  {
   "cell_type": "markdown",
   "id": "231a892f-1332-4bdf-8878-7e19d511c8e9",
   "metadata": {},
   "source": [
    "Exercises "
   ]
  },
  {
   "cell_type": "code",
   "execution_count": null,
   "id": "7b9778cd-b416-4b2e-855e-a630ce9af0d2",
   "metadata": {},
   "outputs": [],
   "source": []
  }
 ],
 "metadata": {
  "kernelspec": {
   "display_name": "Python 3 (ipykernel)",
   "language": "python",
   "name": "python3"
  },
  "language_info": {
   "codemirror_mode": {
    "name": "ipython",
    "version": 3
   },
   "file_extension": ".py",
   "mimetype": "text/x-python",
   "name": "python",
   "nbconvert_exporter": "python",
   "pygments_lexer": "ipython3",
   "version": "3.10.8"
  }
 },
 "nbformat": 4,
 "nbformat_minor": 5
}
