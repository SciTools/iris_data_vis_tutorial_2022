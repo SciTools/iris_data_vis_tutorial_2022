{
 "cells": [
  {
   "cell_type": "markdown",
   "id": "f43a83d2-320a-4bc9-b95b-de23a5b66574",
   "metadata": {
    "tags": []
   },
   "source": [
    "# Iris Data Visualisation Tutorial"
   ]
  },
  {
   "cell_type": "markdown",
   "id": "91b2a3a8-f9ff-47be-8c3d-6a6af8a173eb",
   "metadata": {
    "tags": []
   },
   "source": [
    "Tuesday 29th November 2022\n",
    "\n",
    "An introduction to data visualisation using Iris and Cartopy"
   ]
  }
 ],
 "metadata": {
  "kernelspec": {
   "display_name": "Python 3 (ipykernel)",
   "language": "python",
   "name": "python3"
  },
  "language_info": {
   "codemirror_mode": {
    "name": "ipython",
    "version": 3
   },
   "file_extension": ".py",
   "mimetype": "text/x-python",
   "name": "python",
   "nbconvert_exporter": "python",
   "pygments_lexer": "ipython3",
   "version": "3.10.8"
  }
 },
 "nbformat": 4,
 "nbformat_minor": 5
}
